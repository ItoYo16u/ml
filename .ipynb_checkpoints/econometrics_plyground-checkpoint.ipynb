{
 "cells": [
  {
   "cell_type": "markdown",
   "metadata": {
    "toc": true
   },
   "source": [
    "<h1>Table of Contents<span class=\"tocSkip\"></span></h1>\n",
    "<div class=\"toc\"><ul class=\"toc-item\"><li><span><a href=\"#プロビットモデル\" data-toc-modified-id=\"プロビットモデル-1\"><span class=\"toc-item-num\">1&nbsp;&nbsp;</span>プロビットモデル</a></span></li><li><span><a href=\"#ポワソン分布\" data-toc-modified-id=\"ポワソン分布-2\"><span class=\"toc-item-num\">2&nbsp;&nbsp;</span>ポワソン分布</a></span></li><li><span><a href=\"#類題\" data-toc-modified-id=\"類題-3\"><span class=\"toc-item-num\">3&nbsp;&nbsp;</span>類題</a></span><ul class=\"toc-item\"><li><span><a href=\"#不良品の予測\" data-toc-modified-id=\"不良品の予測-3.1\"><span class=\"toc-item-num\">3.1&nbsp;&nbsp;</span>不良品の予測</a></span></li><li><span><a href=\"#解\" data-toc-modified-id=\"解-3.2\"><span class=\"toc-item-num\">3.2&nbsp;&nbsp;</span>解</a></span></li></ul></li><li><span><a href=\"#交差項の検討\" data-toc-modified-id=\"交差項の検討-4\"><span class=\"toc-item-num\">4&nbsp;&nbsp;</span>交差項の検討</a></span><ul class=\"toc-item\"><li><span><a href=\"#交差項の追加\" data-toc-modified-id=\"交差項の追加-4.1\"><span class=\"toc-item-num\">4.1&nbsp;&nbsp;</span>交差項の追加</a></span></li><li><span><a href=\"#余談:-2乗項\" data-toc-modified-id=\"余談:-2乗項-4.2\"><span class=\"toc-item-num\">4.2&nbsp;&nbsp;</span>余談: 2乗項</a></span></li></ul></li></ul></div>"
   ]
  },
  {
   "cell_type": "markdown",
   "metadata": {},
   "source": [
    "## プロビットモデル"
   ]
  },
  {
   "cell_type": "code",
   "execution_count": 3,
   "metadata": {},
   "outputs": [],
   "source": [
    "from sklearn.datasets import load_breast_cancer"
   ]
  },
  {
   "cell_type": "code",
   "execution_count": 4,
   "metadata": {},
   "outputs": [],
   "source": [
    "cancer = load_breast_cancer()"
   ]
  },
  {
   "cell_type": "code",
   "execution_count": 11,
   "metadata": {},
   "outputs": [
    {
     "data": {
      "text/html": [
       "<div>\n",
       "<style scoped>\n",
       "    .dataframe tbody tr th:only-of-type {\n",
       "        vertical-align: middle;\n",
       "    }\n",
       "\n",
       "    .dataframe tbody tr th {\n",
       "        vertical-align: top;\n",
       "    }\n",
       "\n",
       "    .dataframe thead th {\n",
       "        text-align: right;\n",
       "    }\n",
       "</style>\n",
       "<table border=\"1\" class=\"dataframe\">\n",
       "  <thead>\n",
       "    <tr style=\"text-align: right;\">\n",
       "      <th></th>\n",
       "      <th>mean radius</th>\n",
       "      <th>mean texture</th>\n",
       "      <th>mean perimeter</th>\n",
       "      <th>mean area</th>\n",
       "      <th>mean smoothness</th>\n",
       "      <th>mean compactness</th>\n",
       "      <th>mean concavity</th>\n",
       "      <th>mean concave points</th>\n",
       "      <th>mean symmetry</th>\n",
       "      <th>mean fractal dimension</th>\n",
       "      <th>...</th>\n",
       "      <th>worst radius</th>\n",
       "      <th>worst texture</th>\n",
       "      <th>worst perimeter</th>\n",
       "      <th>worst area</th>\n",
       "      <th>worst smoothness</th>\n",
       "      <th>worst compactness</th>\n",
       "      <th>worst concavity</th>\n",
       "      <th>worst concave points</th>\n",
       "      <th>worst symmetry</th>\n",
       "      <th>worst fractal dimension</th>\n",
       "    </tr>\n",
       "  </thead>\n",
       "  <tbody>\n",
       "    <tr>\n",
       "      <th>0</th>\n",
       "      <td>17.99</td>\n",
       "      <td>10.38</td>\n",
       "      <td>122.80</td>\n",
       "      <td>1001.0</td>\n",
       "      <td>0.11840</td>\n",
       "      <td>0.27760</td>\n",
       "      <td>0.3001</td>\n",
       "      <td>0.14710</td>\n",
       "      <td>0.2419</td>\n",
       "      <td>0.07871</td>\n",
       "      <td>...</td>\n",
       "      <td>25.38</td>\n",
       "      <td>17.33</td>\n",
       "      <td>184.60</td>\n",
       "      <td>2019.0</td>\n",
       "      <td>0.1622</td>\n",
       "      <td>0.6656</td>\n",
       "      <td>0.7119</td>\n",
       "      <td>0.2654</td>\n",
       "      <td>0.4601</td>\n",
       "      <td>0.11890</td>\n",
       "    </tr>\n",
       "    <tr>\n",
       "      <th>1</th>\n",
       "      <td>20.57</td>\n",
       "      <td>17.77</td>\n",
       "      <td>132.90</td>\n",
       "      <td>1326.0</td>\n",
       "      <td>0.08474</td>\n",
       "      <td>0.07864</td>\n",
       "      <td>0.0869</td>\n",
       "      <td>0.07017</td>\n",
       "      <td>0.1812</td>\n",
       "      <td>0.05667</td>\n",
       "      <td>...</td>\n",
       "      <td>24.99</td>\n",
       "      <td>23.41</td>\n",
       "      <td>158.80</td>\n",
       "      <td>1956.0</td>\n",
       "      <td>0.1238</td>\n",
       "      <td>0.1866</td>\n",
       "      <td>0.2416</td>\n",
       "      <td>0.1860</td>\n",
       "      <td>0.2750</td>\n",
       "      <td>0.08902</td>\n",
       "    </tr>\n",
       "    <tr>\n",
       "      <th>2</th>\n",
       "      <td>19.69</td>\n",
       "      <td>21.25</td>\n",
       "      <td>130.00</td>\n",
       "      <td>1203.0</td>\n",
       "      <td>0.10960</td>\n",
       "      <td>0.15990</td>\n",
       "      <td>0.1974</td>\n",
       "      <td>0.12790</td>\n",
       "      <td>0.2069</td>\n",
       "      <td>0.05999</td>\n",
       "      <td>...</td>\n",
       "      <td>23.57</td>\n",
       "      <td>25.53</td>\n",
       "      <td>152.50</td>\n",
       "      <td>1709.0</td>\n",
       "      <td>0.1444</td>\n",
       "      <td>0.4245</td>\n",
       "      <td>0.4504</td>\n",
       "      <td>0.2430</td>\n",
       "      <td>0.3613</td>\n",
       "      <td>0.08758</td>\n",
       "    </tr>\n",
       "    <tr>\n",
       "      <th>3</th>\n",
       "      <td>11.42</td>\n",
       "      <td>20.38</td>\n",
       "      <td>77.58</td>\n",
       "      <td>386.1</td>\n",
       "      <td>0.14250</td>\n",
       "      <td>0.28390</td>\n",
       "      <td>0.2414</td>\n",
       "      <td>0.10520</td>\n",
       "      <td>0.2597</td>\n",
       "      <td>0.09744</td>\n",
       "      <td>...</td>\n",
       "      <td>14.91</td>\n",
       "      <td>26.50</td>\n",
       "      <td>98.87</td>\n",
       "      <td>567.7</td>\n",
       "      <td>0.2098</td>\n",
       "      <td>0.8663</td>\n",
       "      <td>0.6869</td>\n",
       "      <td>0.2575</td>\n",
       "      <td>0.6638</td>\n",
       "      <td>0.17300</td>\n",
       "    </tr>\n",
       "    <tr>\n",
       "      <th>4</th>\n",
       "      <td>20.29</td>\n",
       "      <td>14.34</td>\n",
       "      <td>135.10</td>\n",
       "      <td>1297.0</td>\n",
       "      <td>0.10030</td>\n",
       "      <td>0.13280</td>\n",
       "      <td>0.1980</td>\n",
       "      <td>0.10430</td>\n",
       "      <td>0.1809</td>\n",
       "      <td>0.05883</td>\n",
       "      <td>...</td>\n",
       "      <td>22.54</td>\n",
       "      <td>16.67</td>\n",
       "      <td>152.20</td>\n",
       "      <td>1575.0</td>\n",
       "      <td>0.1374</td>\n",
       "      <td>0.2050</td>\n",
       "      <td>0.4000</td>\n",
       "      <td>0.1625</td>\n",
       "      <td>0.2364</td>\n",
       "      <td>0.07678</td>\n",
       "    </tr>\n",
       "  </tbody>\n",
       "</table>\n",
       "<p>5 rows × 30 columns</p>\n",
       "</div>"
      ],
      "text/plain": [
       "   mean radius  mean texture  mean perimeter  mean area  mean smoothness  \\\n",
       "0        17.99         10.38          122.80     1001.0          0.11840   \n",
       "1        20.57         17.77          132.90     1326.0          0.08474   \n",
       "2        19.69         21.25          130.00     1203.0          0.10960   \n",
       "3        11.42         20.38           77.58      386.1          0.14250   \n",
       "4        20.29         14.34          135.10     1297.0          0.10030   \n",
       "\n",
       "   mean compactness  mean concavity  mean concave points  mean symmetry  \\\n",
       "0           0.27760          0.3001              0.14710         0.2419   \n",
       "1           0.07864          0.0869              0.07017         0.1812   \n",
       "2           0.15990          0.1974              0.12790         0.2069   \n",
       "3           0.28390          0.2414              0.10520         0.2597   \n",
       "4           0.13280          0.1980              0.10430         0.1809   \n",
       "\n",
       "   mean fractal dimension  ...  worst radius  worst texture  worst perimeter  \\\n",
       "0                 0.07871  ...         25.38          17.33           184.60   \n",
       "1                 0.05667  ...         24.99          23.41           158.80   \n",
       "2                 0.05999  ...         23.57          25.53           152.50   \n",
       "3                 0.09744  ...         14.91          26.50            98.87   \n",
       "4                 0.05883  ...         22.54          16.67           152.20   \n",
       "\n",
       "   worst area  worst smoothness  worst compactness  worst concavity  \\\n",
       "0      2019.0            0.1622             0.6656           0.7119   \n",
       "1      1956.0            0.1238             0.1866           0.2416   \n",
       "2      1709.0            0.1444             0.4245           0.4504   \n",
       "3       567.7            0.2098             0.8663           0.6869   \n",
       "4      1575.0            0.1374             0.2050           0.4000   \n",
       "\n",
       "   worst concave points  worst symmetry  worst fractal dimension  \n",
       "0                0.2654          0.4601                  0.11890  \n",
       "1                0.1860          0.2750                  0.08902  \n",
       "2                0.2430          0.3613                  0.08758  \n",
       "3                0.2575          0.6638                  0.17300  \n",
       "4                0.1625          0.2364                  0.07678  \n",
       "\n",
       "[5 rows x 30 columns]"
      ]
     },
     "execution_count": 11,
     "metadata": {},
     "output_type": "execute_result"
    }
   ],
   "source": [
    "import pandas as pd\n",
    "cancer_df = pd.DataFrame(cancer.data,columns = cancer.feature_names)\n",
    "cancer_df.head()"
   ]
  },
  {
   "cell_type": "code",
   "execution_count": 12,
   "metadata": {},
   "outputs": [],
   "source": [
    "import matplotlib.pyplot as plt\n",
    "%matplotlib inline"
   ]
  },
  {
   "cell_type": "code",
   "execution_count": 17,
   "metadata": {},
   "outputs": [
    {
     "data": {
      "text/plain": [
       "<matplotlib.collections.PathCollection at 0x29711cb8a20>"
      ]
     },
     "execution_count": 17,
     "metadata": {},
     "output_type": "execute_result"
    },
    {
     "data": {
      "image/png": "[encoded data removed]",
      "text/plain": [
       "<Figure size 432x288 with 1 Axes>"
      ]
     },
     "metadata": {
      "needs_background": "light"
     },
     "output_type": "display_data"
    }
   ],
   "source": [
    "plt.scatter(cancer_df[\"mean radius\"],cancer.target)"
   ]
  },
  {
   "cell_type": "markdown",
   "metadata": {},
   "source": [
    "プロビットモデル\n",
    "\n",
    "目的変数（被説明変数）の値が有限の範囲に収まるケース、つまり予測値が線形モデルではない場合に使う.\n"
   ]
  },
  {
   "cell_type": "code",
   "execution_count": 18,
   "metadata": {},
   "outputs": [],
   "source": [
    "import statsmodels.api as sm"
   ]
  },
  {
   "cell_type": "code",
   "execution_count": 35,
   "metadata": {},
   "outputs": [],
   "source": [
    "from statsmodels.discrete.discrete_model import Probit"
   ]
  },
  {
   "cell_type": "markdown",
   "metadata": {},
   "source": [
    "https://jbhender.github.io/Stats506/F18/GP/Group14.html#languages"
   ]
  },
  {
   "cell_type": "code",
   "execution_count": 74,
   "metadata": {},
   "outputs": [],
   "source": [
    "data = pd.read_csv(\"https://vincentarelbundock.github.io/Rdatasets/csv/carData/Mroz.csv\")\n",
    "valid_data = data.drop(data.columns[0],axis=1)"
   ]
  },
  {
   "cell_type": "code",
   "execution_count": 75,
   "metadata": {},
   "outputs": [],
   "source": [
    "valid_data[\"lfp\"] = valid_data[\"lfp\"]==\"yes\"\n",
    "valid_data[\"hc\"] = valid_data[\"hc\"] == \"yes\"\n",
    "valid_data[\"wc\"] = valid_data[\"wc\"]==\"yes\""
   ]
  },
  {
   "cell_type": "code",
   "execution_count": 76,
   "metadata": {},
   "outputs": [
    {
     "data": {
      "text/html": [
       "<div>\n",
       "<style scoped>\n",
       "    .dataframe tbody tr th:only-of-type {\n",
       "        vertical-align: middle;\n",
       "    }\n",
       "\n",
       "    .dataframe tbody tr th {\n",
       "        vertical-align: top;\n",
       "    }\n",
       "\n",
       "    .dataframe thead th {\n",
       "        text-align: right;\n",
       "    }\n",
       "</style>\n",
       "<table border=\"1\" class=\"dataframe\">\n",
       "  <thead>\n",
       "    <tr style=\"text-align: right;\">\n",
       "      <th></th>\n",
       "      <th>lfp</th>\n",
       "      <th>k5</th>\n",
       "      <th>k618</th>\n",
       "      <th>age</th>\n",
       "      <th>wc</th>\n",
       "      <th>hc</th>\n",
       "      <th>lwg</th>\n",
       "      <th>inc</th>\n",
       "    </tr>\n",
       "  </thead>\n",
       "  <tbody>\n",
       "    <tr>\n",
       "      <th>0</th>\n",
       "      <td>True</td>\n",
       "      <td>1</td>\n",
       "      <td>0</td>\n",
       "      <td>32</td>\n",
       "      <td>False</td>\n",
       "      <td>False</td>\n",
       "      <td>1.210165</td>\n",
       "      <td>10.910001</td>\n",
       "    </tr>\n",
       "    <tr>\n",
       "      <th>1</th>\n",
       "      <td>True</td>\n",
       "      <td>0</td>\n",
       "      <td>2</td>\n",
       "      <td>30</td>\n",
       "      <td>False</td>\n",
       "      <td>False</td>\n",
       "      <td>0.328504</td>\n",
       "      <td>19.500000</td>\n",
       "    </tr>\n",
       "    <tr>\n",
       "      <th>2</th>\n",
       "      <td>True</td>\n",
       "      <td>1</td>\n",
       "      <td>3</td>\n",
       "      <td>35</td>\n",
       "      <td>False</td>\n",
       "      <td>False</td>\n",
       "      <td>1.514128</td>\n",
       "      <td>12.039999</td>\n",
       "    </tr>\n",
       "    <tr>\n",
       "      <th>3</th>\n",
       "      <td>True</td>\n",
       "      <td>0</td>\n",
       "      <td>3</td>\n",
       "      <td>34</td>\n",
       "      <td>False</td>\n",
       "      <td>False</td>\n",
       "      <td>0.092115</td>\n",
       "      <td>6.800000</td>\n",
       "    </tr>\n",
       "    <tr>\n",
       "      <th>4</th>\n",
       "      <td>True</td>\n",
       "      <td>1</td>\n",
       "      <td>2</td>\n",
       "      <td>31</td>\n",
       "      <td>True</td>\n",
       "      <td>False</td>\n",
       "      <td>1.524280</td>\n",
       "      <td>20.100000</td>\n",
       "    </tr>\n",
       "  </tbody>\n",
       "</table>\n",
       "</div>"
      ],
      "text/plain": [
       "    lfp  k5  k618  age     wc     hc       lwg        inc\n",
       "0  True   1     0   32  False  False  1.210165  10.910001\n",
       "1  True   0     2   30  False  False  0.328504  19.500000\n",
       "2  True   1     3   35  False  False  1.514128  12.039999\n",
       "3  True   0     3   34  False  False  0.092115   6.800000\n",
       "4  True   1     2   31   True  False  1.524280  20.100000"
      ]
     },
     "execution_count": 76,
     "metadata": {},
     "output_type": "execute_result"
    }
   ],
   "source": [
    "valid_data.head()"
   ]
  },
  {
   "cell_type": "markdown",
   "metadata": {},
   "source": [
    "The data covers a sample of 753 married white women aged between 30 and 60 collected in 1975.\n",
    "\n",
    "lfp: Labor-force participation of the married white woman\n",
    "\n",
    "k5 : Number of children younger than 6 years old\n",
    "\n",
    "k618: Number of children aged 6-18\n",
    "\n",
    "age: age in years\n",
    "\n",
    "wc : Wife's college attendance\n",
    "\n",
    "hc : Husband's college attendance\n",
    "\n",
    "lwg : Log expected wage rate for women in labor force\n",
    "\n",
    "inc : family income without the wife's income\n",
    "\n",
    "Our task is to identify whether certain characteristics of a woman’s household and personal life can predict her labor-force participation.\n",
    "\n"
   ]
  },
  {
   "cell_type": "code",
   "execution_count": 77,
   "metadata": {},
   "outputs": [
    {
     "data": {
      "text/html": [
       "<div>\n",
       "<style scoped>\n",
       "    .dataframe tbody tr th:only-of-type {\n",
       "        vertical-align: middle;\n",
       "    }\n",
       "\n",
       "    .dataframe tbody tr th {\n",
       "        vertical-align: top;\n",
       "    }\n",
       "\n",
       "    .dataframe thead th {\n",
       "        text-align: right;\n",
       "    }\n",
       "</style>\n",
       "<table border=\"1\" class=\"dataframe\">\n",
       "  <thead>\n",
       "    <tr style=\"text-align: right;\">\n",
       "      <th></th>\n",
       "      <th>k5</th>\n",
       "      <th>k618</th>\n",
       "      <th>age</th>\n",
       "      <th>lwg</th>\n",
       "      <th>inc</th>\n",
       "    </tr>\n",
       "  </thead>\n",
       "  <tbody>\n",
       "    <tr>\n",
       "      <th>count</th>\n",
       "      <td>753.000000</td>\n",
       "      <td>753.000000</td>\n",
       "      <td>753.000000</td>\n",
       "      <td>753.000000</td>\n",
       "      <td>753.000000</td>\n",
       "    </tr>\n",
       "    <tr>\n",
       "      <th>mean</th>\n",
       "      <td>0.237716</td>\n",
       "      <td>1.353254</td>\n",
       "      <td>42.537849</td>\n",
       "      <td>1.097115</td>\n",
       "      <td>20.128965</td>\n",
       "    </tr>\n",
       "    <tr>\n",
       "      <th>std</th>\n",
       "      <td>0.523959</td>\n",
       "      <td>1.319874</td>\n",
       "      <td>8.072574</td>\n",
       "      <td>0.587556</td>\n",
       "      <td>11.634799</td>\n",
       "    </tr>\n",
       "    <tr>\n",
       "      <th>min</th>\n",
       "      <td>0.000000</td>\n",
       "      <td>0.000000</td>\n",
       "      <td>30.000000</td>\n",
       "      <td>-2.054124</td>\n",
       "      <td>-0.029000</td>\n",
       "    </tr>\n",
       "    <tr>\n",
       "      <th>25%</th>\n",
       "      <td>0.000000</td>\n",
       "      <td>0.000000</td>\n",
       "      <td>36.000000</td>\n",
       "      <td>0.818086</td>\n",
       "      <td>13.025000</td>\n",
       "    </tr>\n",
       "    <tr>\n",
       "      <th>50%</th>\n",
       "      <td>0.000000</td>\n",
       "      <td>1.000000</td>\n",
       "      <td>43.000000</td>\n",
       "      <td>1.068403</td>\n",
       "      <td>17.700001</td>\n",
       "    </tr>\n",
       "    <tr>\n",
       "      <th>75%</th>\n",
       "      <td>0.000000</td>\n",
       "      <td>2.000000</td>\n",
       "      <td>49.000000</td>\n",
       "      <td>1.399717</td>\n",
       "      <td>24.466000</td>\n",
       "    </tr>\n",
       "    <tr>\n",
       "      <th>max</th>\n",
       "      <td>3.000000</td>\n",
       "      <td>8.000000</td>\n",
       "      <td>60.000000</td>\n",
       "      <td>3.218876</td>\n",
       "      <td>96.000000</td>\n",
       "    </tr>\n",
       "  </tbody>\n",
       "</table>\n",
       "</div>"
      ],
      "text/plain": [
       "               k5        k618         age         lwg         inc\n",
       "count  753.000000  753.000000  753.000000  753.000000  753.000000\n",
       "mean     0.237716    1.353254   42.537849    1.097115   20.128965\n",
       "std      0.523959    1.319874    8.072574    0.587556   11.634799\n",
       "min      0.000000    0.000000   30.000000   -2.054124   -0.029000\n",
       "25%      0.000000    0.000000   36.000000    0.818086   13.025000\n",
       "50%      0.000000    1.000000   43.000000    1.068403   17.700001\n",
       "75%      0.000000    2.000000   49.000000    1.399717   24.466000\n",
       "max      3.000000    8.000000   60.000000    3.218876   96.000000"
      ]
     },
     "execution_count": 77,
     "metadata": {},
     "output_type": "execute_result"
    }
   ],
   "source": [
    "valid_data.describe()"
   ]
  },
  {
   "cell_type": "code",
   "execution_count": 95,
   "metadata": {},
   "outputs": [],
   "source": [
    "y = valid_data[\"lfp\"]\n",
    "X = valid_data.drop([\"lfp\"],1)\n",
    "X = sm.add_constant(X)\n",
    "model = Probit(y,X.astype(float))"
   ]
  },
  {
   "cell_type": "code",
   "execution_count": 96,
   "metadata": {},
   "outputs": [
    {
     "name": "stdout",
     "output_type": "stream",
     "text": [
      "Optimization terminated successfully.\n",
      "         Current function value: 0.601189\n",
      "         Iterations 5\n"
     ]
    }
   ],
   "source": [
    "probit_model =model.fit()"
   ]
  },
  {
   "cell_type": "code",
   "execution_count": 103,
   "metadata": {},
   "outputs": [
    {
     "data": {
      "text/html": [
       "<table class=\"simpletable\">\n",
       "<caption>Probit Regression Results</caption>\n",
       "<tr>\n",
       "  <th>Dep. Variable:</th>        <td>lfp</td>       <th>  No. Observations:  </th>  <td>   753</td>  \n",
       "</tr>\n",
       "<tr>\n",
       "  <th>Model:</th>              <td>Probit</td>      <th>  Df Residuals:      </th>  <td>   745</td>  \n",
       "</tr>\n",
       "<tr>\n",
       "  <th>Method:</th>               <td>MLE</td>       <th>  Df Model:          </th>  <td>     7</td>  \n",
       "</tr>\n",
       "<tr>\n",
       "  <th>Date:</th>          <td>Sat, 07 Dec 2019</td> <th>  Pseudo R-squ.:     </th>  <td>0.1208</td>  \n",
       "</tr>\n",
       "<tr>\n",
       "  <th>Time:</th>              <td>18:11:23</td>     <th>  Log-Likelihood:    </th> <td> -452.69</td> \n",
       "</tr>\n",
       "<tr>\n",
       "  <th>converged:</th>           <td>True</td>       <th>  LL-Null:           </th> <td> -514.87</td> \n",
       "</tr>\n",
       "<tr>\n",
       "  <th> </th>                      <td> </td>        <th>  LLR p-value:       </th> <td>9.471e-24</td>\n",
       "</tr>\n",
       "</table>\n",
       "<table class=\"simpletable\">\n",
       "<tr>\n",
       "    <td></td>       <th>coef</th>     <th>std err</th>      <th>z</th>      <th>P>|z|</th>  <th>[0.025</th>    <th>0.975]</th>  \n",
       "</tr>\n",
       "<tr>\n",
       "  <th>const</th> <td>    1.9184</td> <td>    0.381</td> <td>    5.040</td> <td> 0.000</td> <td>    1.172</td> <td>    2.664</td>\n",
       "</tr>\n",
       "<tr>\n",
       "  <th>k5</th>    <td>   -0.8747</td> <td>    0.114</td> <td>   -7.703</td> <td> 0.000</td> <td>   -1.097</td> <td>   -0.652</td>\n",
       "</tr>\n",
       "<tr>\n",
       "  <th>k618</th>  <td>   -0.0386</td> <td>    0.040</td> <td>   -0.953</td> <td> 0.340</td> <td>   -0.118</td> <td>    0.041</td>\n",
       "</tr>\n",
       "<tr>\n",
       "  <th>age</th>   <td>   -0.0378</td> <td>    0.008</td> <td>   -4.971</td> <td> 0.000</td> <td>   -0.053</td> <td>   -0.023</td>\n",
       "</tr>\n",
       "<tr>\n",
       "  <th>wc</th>    <td>    0.4883</td> <td>    0.135</td> <td>    3.604</td> <td> 0.000</td> <td>    0.223</td> <td>    0.754</td>\n",
       "</tr>\n",
       "<tr>\n",
       "  <th>hc</th>    <td>    0.0572</td> <td>    0.124</td> <td>    0.461</td> <td> 0.645</td> <td>   -0.186</td> <td>    0.300</td>\n",
       "</tr>\n",
       "<tr>\n",
       "  <th>lwg</th>   <td>    0.3656</td> <td>    0.088</td> <td>    4.165</td> <td> 0.000</td> <td>    0.194</td> <td>    0.538</td>\n",
       "</tr>\n",
       "<tr>\n",
       "  <th>inc</th>   <td>   -0.0205</td> <td>    0.005</td> <td>   -4.297</td> <td> 0.000</td> <td>   -0.030</td> <td>   -0.011</td>\n",
       "</tr>\n",
       "</table>"
      ],
      "text/plain": [
       "<class 'statsmodels.iolib.summary.Summary'>\n",
       "\"\"\"\n",
       "                          Probit Regression Results                           \n",
       "==============================================================================\n",
       "Dep. Variable:                    lfp   No. Observations:                  753\n",
       "Model:                         Probit   Df Residuals:                      745\n",
       "Method:                           MLE   Df Model:                            7\n",
       "Date:                Sat, 07 Dec 2019   Pseudo R-squ.:                  0.1208\n",
       "Time:                        18:11:23   Log-Likelihood:                -452.69\n",
       "converged:                       True   LL-Null:                       -514.87\n",
       "                                        LLR p-value:                 9.471e-24\n",
       "==============================================================================\n",
       "                 coef    std err          z      P>|z|      [0.025      0.975]\n",
       "------------------------------------------------------------------------------\n",
       "const          1.9184      0.381      5.040      0.000       1.172       2.664\n",
       "k5            -0.8747      0.114     -7.703      0.000      -1.097      -0.652\n",
       "k618          -0.0386      0.040     -0.953      0.340      -0.118       0.041\n",
       "age           -0.0378      0.008     -4.971      0.000      -0.053      -0.023\n",
       "wc             0.4883      0.135      3.604      0.000       0.223       0.754\n",
       "hc             0.0572      0.124      0.461      0.645      -0.186       0.300\n",
       "lwg            0.3656      0.088      4.165      0.000       0.194       0.538\n",
       "inc           -0.0205      0.005     -4.297      0.000      -0.030      -0.011\n",
       "==============================================================================\n",
       "\"\"\""
      ]
     },
     "execution_count": 103,
     "metadata": {},
     "output_type": "execute_result"
    }
   ],
   "source": [
    "probit_model.summary()"
   ]
  },
  {
   "cell_type": "code",
   "execution_count": 107,
   "metadata": {},
   "outputs": [
    {
     "name": "stdout",
     "output_type": "stream",
     "text": [
      "       Probit Marginal Effects       \n",
      "=====================================\n",
      "Dep. Variable:                    lfp\n",
      "Method:                          dydx\n",
      "At:                           overall\n",
      "==============================================================================\n",
      "                dy/dx    std err          z      P>|z|      [0.025      0.975]\n",
      "------------------------------------------------------------------------------\n",
      "k5            -0.2997      0.034     -8.726      0.000      -0.367      -0.232\n",
      "k618          -0.0132      0.014     -0.955      0.340      -0.040       0.014\n",
      "age           -0.0130      0.002     -5.219      0.000      -0.018      -0.008\n",
      "wc             0.1673      0.045      3.696      0.000       0.079       0.256\n",
      "hc             0.0196      0.042      0.461      0.645      -0.064       0.103\n",
      "lwg            0.1253      0.029      4.311      0.000       0.068       0.182\n",
      "inc           -0.0070      0.002     -4.451      0.000      -0.010      -0.004\n",
      "==============================================================================\n"
     ]
    }
   ],
   "source": [
    "print(probit_model.get_margeff().summary())"
   ]
  },
  {
   "cell_type": "markdown",
   "metadata": {},
   "source": [
    "statsmodelsのProbitクラスはmargeffメソッドを持つ.\n",
    "margeff()メソッドは各パラメータの限界効果（そのパラメータが一単位変化したときの目的変数への効果）を返す."
   ]
  },
  {
   "cell_type": "markdown",
   "metadata": {},
   "source": [
    "## ポワソン分布\n",
    "\n",
    "+ ある事象が何回起きるかという偶然のメカニズムを表現する確率分布\n",
    "+ なかなか起こりにくいことの確率分布を表現する\n",
    "\n",
    "代表的な例としては\n",
    "\n",
    "+ ある地域の一日の交通事故件数\n",
    "+ ある会社の電話機に14時～15時にかかってくる電話の数\n",
    "+ ある野球チームの1試合あたりのホームラン数\n",
    "\n",
    "xを、単位空間内で生じるある現象の正規回数とし、xがポアソン分布に従うときxの確率分布は次のように書ける\n",
    "\n",
    "(e.g, 例えば,x=3 はある範囲内でxが3回起きる確率)\n",
    "\n",
    "$$\n",
    "f(x) = \\frac{\\lambda^xe^{-\\lambda}}{x!}\n",
    "$$\n",
    "\n",
    "$$\n",
    "var(x) = \\lambda,\n",
    "E(x) = \\lambda\n",
    "$$"
   ]
  },
  {
   "cell_type": "code",
   "execution_count": 1,
   "metadata": {},
   "outputs": [
    {
     "data": {
      "text/plain": [
       "10.081881344492457"
      ]
     },
     "execution_count": 1,
     "metadata": {},
     "output_type": "execute_result"
    }
   ],
   "source": [
    "# 電話がかかってくる回数の予測\n",
    "\n",
    "## 15時から16時の間に平均3回電話がかかってくるとき、同じ時間帯にN回電話がかかってくる確率を求められる.\n",
    "\n",
    "## Xの期待値= lambda = 3\n",
    "\n",
    "from scipy.stats import poisson\n",
    "### 5回かかってくる確率\n",
    "lam = 3\n",
    "poisson.pmf(5,lam)*100\n"
   ]
  },
  {
   "cell_type": "code",
   "execution_count": 2,
   "metadata": {},
   "outputs": [
    {
     "data": {
      "text/plain": [
       "0.1847367554762278"
      ]
     },
     "execution_count": 2,
     "metadata": {},
     "output_type": "execute_result"
    }
   ],
   "source": [
    "### 5回以上かかってくる確率\n",
    "1 - poisson.cdf(4,lam)"
   ]
  },
  {
   "cell_type": "code",
   "execution_count": 3,
   "metadata": {},
   "outputs": [],
   "source": [
    "import matplotlib.pyplot as plt\n",
    "%matplotlib inline"
   ]
  },
  {
   "cell_type": "code",
   "execution_count": 5,
   "metadata": {},
   "outputs": [
    {
     "data": {
      "text/plain": [
       "[<matplotlib.lines.Line2D at 0x271a45d6a58>]"
      ]
     },
     "execution_count": 5,
     "metadata": {},
     "output_type": "execute_result"
    },
    {
     "data": {
      "image/png": "[encoded data removed]",
      "text/plain": [
       "<Figure size 432x288 with 1 Axes>"
      ]
     },
     "metadata": {
      "needs_background": "light"
     },
     "output_type": "display_data"
    }
   ],
   "source": [
    "x = [i for i in range(50)]\n",
    "plt.plot(x,poisson.pmf(x,lam))"
   ]
  },
  {
   "cell_type": "markdown",
   "metadata": {},
   "source": [
    "## 類題\n",
    "\n",
    "### 不良品の予測\n",
    "\n",
    "製品Aを作る工場では平均して200個に1個の割合で不良品が発生します。\n",
    "\n",
    "製造された製品Aを10個抜き取る時、この中に不良品が含まれる個数がポアソン分布に従うとすると、\n",
    "\n",
    "不良品が1個含まれる（となる）確率はいくらでしょうか。\n",
    "\n",
    "### 解\n",
    "\n",
    "製品Aを作る工場では平均して200個に1個の割合で不良品が発生します。\n",
    "\n",
    "つまり,商品が不良品である確率は1/200\n",
    "\n",
    "製造された製品を10個抜き出したとき含まれる不良品は平均して1/200 * 10 = 0.05 = $\\lambda$\n"
   ]
  },
  {
   "cell_type": "code",
   "execution_count": 9,
   "metadata": {},
   "outputs": [
    {
     "data": {
      "text/plain": [
       "4.756147122503571"
      ]
     },
     "execution_count": 9,
     "metadata": {},
     "output_type": "execute_result"
    }
   ],
   "source": [
    "lam_defective = 0.05\n",
    "poisson.pmf(1,lam_defective)*100\n"
   ]
  },
  {
   "cell_type": "code",
   "execution_count": 10,
   "metadata": {},
   "outputs": [
    {
     "data": {
      "text/plain": [
       "[<matplotlib.lines.Line2D at 0x271a5bbd240>]"
      ]
     },
     "execution_count": 10,
     "metadata": {},
     "output_type": "execute_result"
    },
    {
     "data": {
      "image/png": "[encoded data removed]",
      "text/plain": [
       "<Figure size 432x288 with 1 Axes>"
      ]
     },
     "metadata": {
      "needs_background": "light"
     },
     "output_type": "display_data"
    }
   ],
   "source": [
    "cnts_defective =[i for i in range(10)]\n",
    "plt.plot(cnts_defective,poisson.pmf(cnts_defective,lam_defective))"
   ]
  },
  {
   "cell_type": "markdown",
   "metadata": {},
   "source": [
    "## 交差項の検討"
   ]
  },
  {
   "cell_type": "code",
   "execution_count": 18,
   "metadata": {},
   "outputs": [],
   "source": [
    "from sklearn.datasets import load_boston\n",
    "import pandas as pd\n",
    "import statsmodels.formula.api as smf"
   ]
  },
  {
   "cell_type": "code",
   "execution_count": 16,
   "metadata": {},
   "outputs": [],
   "source": [
    "boston = load_boston()\n",
    "boston_df = pd.DataFrame(boston.data,columns = boston.feature_names)"
   ]
  },
  {
   "cell_type": "markdown",
   "metadata": {},
   "source": [
    "### 交差項の追加\n",
    "RM と DISの積であるRM_DISを交差項として追加する\n",
    "交差項はある説明変数とべつの説明変数が相乗的に目的変数に影響を与えている仮説が立った場合に用いる."
   ]
  },
  {
   "cell_type": "code",
   "execution_count": 19,
   "metadata": {},
   "outputs": [
    {
     "data": {
      "text/html": [
       "<div>\n",
       "<style scoped>\n",
       "    .dataframe tbody tr th:only-of-type {\n",
       "        vertical-align: middle;\n",
       "    }\n",
       "\n",
       "    .dataframe tbody tr th {\n",
       "        vertical-align: top;\n",
       "    }\n",
       "\n",
       "    .dataframe thead th {\n",
       "        text-align: right;\n",
       "    }\n",
       "</style>\n",
       "<table border=\"1\" class=\"dataframe\">\n",
       "  <thead>\n",
       "    <tr style=\"text-align: right;\">\n",
       "      <th></th>\n",
       "      <th>CRIM</th>\n",
       "      <th>ZN</th>\n",
       "      <th>INDUS</th>\n",
       "      <th>CHAS</th>\n",
       "      <th>NOX</th>\n",
       "      <th>RM</th>\n",
       "      <th>AGE</th>\n",
       "      <th>DIS</th>\n",
       "      <th>RAD</th>\n",
       "      <th>TAX</th>\n",
       "      <th>PTRATIO</th>\n",
       "      <th>B</th>\n",
       "      <th>LSTAT</th>\n",
       "      <th>price</th>\n",
       "      <th>RM_DIS</th>\n",
       "    </tr>\n",
       "  </thead>\n",
       "  <tbody>\n",
       "    <tr>\n",
       "      <th>0</th>\n",
       "      <td>0.00632</td>\n",
       "      <td>18.0</td>\n",
       "      <td>2.31</td>\n",
       "      <td>0.0</td>\n",
       "      <td>0.538</td>\n",
       "      <td>6.575</td>\n",
       "      <td>65.2</td>\n",
       "      <td>4.0900</td>\n",
       "      <td>1.0</td>\n",
       "      <td>296.0</td>\n",
       "      <td>15.3</td>\n",
       "      <td>396.90</td>\n",
       "      <td>4.98</td>\n",
       "      <td>24.0</td>\n",
       "      <td>26.891750</td>\n",
       "    </tr>\n",
       "    <tr>\n",
       "      <th>1</th>\n",
       "      <td>0.02731</td>\n",
       "      <td>0.0</td>\n",
       "      <td>7.07</td>\n",
       "      <td>0.0</td>\n",
       "      <td>0.469</td>\n",
       "      <td>6.421</td>\n",
       "      <td>78.9</td>\n",
       "      <td>4.9671</td>\n",
       "      <td>2.0</td>\n",
       "      <td>242.0</td>\n",
       "      <td>17.8</td>\n",
       "      <td>396.90</td>\n",
       "      <td>9.14</td>\n",
       "      <td>21.6</td>\n",
       "      <td>31.893749</td>\n",
       "    </tr>\n",
       "    <tr>\n",
       "      <th>2</th>\n",
       "      <td>0.02729</td>\n",
       "      <td>0.0</td>\n",
       "      <td>7.07</td>\n",
       "      <td>0.0</td>\n",
       "      <td>0.469</td>\n",
       "      <td>7.185</td>\n",
       "      <td>61.1</td>\n",
       "      <td>4.9671</td>\n",
       "      <td>2.0</td>\n",
       "      <td>242.0</td>\n",
       "      <td>17.8</td>\n",
       "      <td>392.83</td>\n",
       "      <td>4.03</td>\n",
       "      <td>34.7</td>\n",
       "      <td>35.688614</td>\n",
       "    </tr>\n",
       "    <tr>\n",
       "      <th>3</th>\n",
       "      <td>0.03237</td>\n",
       "      <td>0.0</td>\n",
       "      <td>2.18</td>\n",
       "      <td>0.0</td>\n",
       "      <td>0.458</td>\n",
       "      <td>6.998</td>\n",
       "      <td>45.8</td>\n",
       "      <td>6.0622</td>\n",
       "      <td>3.0</td>\n",
       "      <td>222.0</td>\n",
       "      <td>18.7</td>\n",
       "      <td>394.63</td>\n",
       "      <td>2.94</td>\n",
       "      <td>33.4</td>\n",
       "      <td>42.423276</td>\n",
       "    </tr>\n",
       "    <tr>\n",
       "      <th>4</th>\n",
       "      <td>0.06905</td>\n",
       "      <td>0.0</td>\n",
       "      <td>2.18</td>\n",
       "      <td>0.0</td>\n",
       "      <td>0.458</td>\n",
       "      <td>7.147</td>\n",
       "      <td>54.2</td>\n",
       "      <td>6.0622</td>\n",
       "      <td>3.0</td>\n",
       "      <td>222.0</td>\n",
       "      <td>18.7</td>\n",
       "      <td>396.90</td>\n",
       "      <td>5.33</td>\n",
       "      <td>36.2</td>\n",
       "      <td>43.326543</td>\n",
       "    </tr>\n",
       "  </tbody>\n",
       "</table>\n",
       "</div>"
      ],
      "text/plain": [
       "      CRIM    ZN  INDUS  CHAS    NOX     RM   AGE     DIS  RAD    TAX  \\\n",
       "0  0.00632  18.0   2.31   0.0  0.538  6.575  65.2  4.0900  1.0  296.0   \n",
       "1  0.02731   0.0   7.07   0.0  0.469  6.421  78.9  4.9671  2.0  242.0   \n",
       "2  0.02729   0.0   7.07   0.0  0.469  7.185  61.1  4.9671  2.0  242.0   \n",
       "3  0.03237   0.0   2.18   0.0  0.458  6.998  45.8  6.0622  3.0  222.0   \n",
       "4  0.06905   0.0   2.18   0.0  0.458  7.147  54.2  6.0622  3.0  222.0   \n",
       "\n",
       "   PTRATIO       B  LSTAT  price     RM_DIS  \n",
       "0     15.3  396.90   4.98   24.0  26.891750  \n",
       "1     17.8  396.90   9.14   21.6  31.893749  \n",
       "2     17.8  392.83   4.03   34.7  35.688614  \n",
       "3     18.7  394.63   2.94   33.4  42.423276  \n",
       "4     18.7  396.90   5.33   36.2  43.326543  "
      ]
     },
     "execution_count": 19,
     "metadata": {},
     "output_type": "execute_result"
    }
   ],
   "source": [
    "boston_df[\"price\"] = boston.target\n",
    "boston_df[\"RM_DIS\"] = boston_df[\"RM\"] * boston_df[\"DIS\"]\n",
    "boston_df.head()"
   ]
  },
  {
   "cell_type": "code",
   "execution_count": 20,
   "metadata": {},
   "outputs": [
    {
     "data": {
      "text/html": [
       "<table class=\"simpletable\">\n",
       "<caption>OLS Regression Results</caption>\n",
       "<tr>\n",
       "  <th>Dep. Variable:</th>            <td>y</td>        <th>  R-squared:         </th> <td>   0.959</td>\n",
       "</tr>\n",
       "<tr>\n",
       "  <th>Model:</th>                   <td>OLS</td>       <th>  Adj. R-squared:    </th> <td>   0.958</td>\n",
       "</tr>\n",
       "<tr>\n",
       "  <th>Method:</th>             <td>Least Squares</td>  <th>  F-statistic:       </th> <td>   828.7</td>\n",
       "</tr>\n",
       "<tr>\n",
       "  <th>Date:</th>             <td>Sun, 08 Dec 2019</td> <th>  Prob (F-statistic):</th>  <td>  0.00</td> \n",
       "</tr>\n",
       "<tr>\n",
       "  <th>Time:</th>                 <td>01:02:18</td>     <th>  Log-Likelihood:    </th> <td> -1523.0</td>\n",
       "</tr>\n",
       "<tr>\n",
       "  <th>No. Observations:</th>      <td>   506</td>      <th>  AIC:               </th> <td>   3074.</td>\n",
       "</tr>\n",
       "<tr>\n",
       "  <th>Df Residuals:</th>          <td>   492</td>      <th>  BIC:               </th> <td>   3133.</td>\n",
       "</tr>\n",
       "<tr>\n",
       "  <th>Df Model:</th>              <td>    14</td>      <th>                     </th>     <td> </td>   \n",
       "</tr>\n",
       "<tr>\n",
       "  <th>Covariance Type:</th>      <td>nonrobust</td>    <th>                     </th>     <td> </td>   \n",
       "</tr>\n",
       "</table>\n",
       "<table class=\"simpletable\">\n",
       "<tr>\n",
       "     <td></td>        <th>coef</th>     <th>std err</th>      <th>t</th>      <th>P>|t|</th>  <th>[0.025</th>    <th>0.975]</th>  \n",
       "</tr>\n",
       "<tr>\n",
       "  <th>CRIM</th>    <td>   -0.0941</td> <td>    0.034</td> <td>   -2.733</td> <td> 0.007</td> <td>   -0.162</td> <td>   -0.026</td>\n",
       "</tr>\n",
       "<tr>\n",
       "  <th>ZN</th>      <td>    0.0446</td> <td>    0.015</td> <td>    3.021</td> <td> 0.003</td> <td>    0.016</td> <td>    0.074</td>\n",
       "</tr>\n",
       "<tr>\n",
       "  <th>INDUS</th>   <td>   -0.0087</td> <td>    0.065</td> <td>   -0.135</td> <td> 0.893</td> <td>   -0.135</td> <td>    0.118</td>\n",
       "</tr>\n",
       "<tr>\n",
       "  <th>CHAS</th>    <td>    2.8810</td> <td>    0.904</td> <td>    3.188</td> <td> 0.002</td> <td>    1.105</td> <td>    4.657</td>\n",
       "</tr>\n",
       "<tr>\n",
       "  <th>NOX</th>     <td>   -1.6037</td> <td>    3.508</td> <td>   -0.457</td> <td> 0.648</td> <td>   -8.496</td> <td>    5.289</td>\n",
       "</tr>\n",
       "<tr>\n",
       "  <th>RM</th>      <td>    5.5541</td> <td>    0.431</td> <td>   12.875</td> <td> 0.000</td> <td>    4.707</td> <td>    6.402</td>\n",
       "</tr>\n",
       "<tr>\n",
       "  <th>AGE</th>     <td>   -0.0063</td> <td>    0.014</td> <td>   -0.456</td> <td> 0.648</td> <td>   -0.033</td> <td>    0.021</td>\n",
       "</tr>\n",
       "<tr>\n",
       "  <th>DIS</th>     <td>   -2.0802</td> <td>    0.916</td> <td>   -2.271</td> <td> 0.024</td> <td>   -3.880</td> <td>   -0.280</td>\n",
       "</tr>\n",
       "<tr>\n",
       "  <th>RAD</th>     <td>    0.1579</td> <td>    0.068</td> <td>    2.338</td> <td> 0.020</td> <td>    0.025</td> <td>    0.291</td>\n",
       "</tr>\n",
       "<tr>\n",
       "  <th>TAX</th>     <td>   -0.0092</td> <td>    0.004</td> <td>   -2.339</td> <td> 0.020</td> <td>   -0.017</td> <td>   -0.001</td>\n",
       "</tr>\n",
       "<tr>\n",
       "  <th>PTRATIO</th> <td>   -0.3304</td> <td>    0.121</td> <td>   -2.741</td> <td> 0.006</td> <td>   -0.567</td> <td>   -0.094</td>\n",
       "</tr>\n",
       "<tr>\n",
       "  <th>B</th>       <td>    0.0153</td> <td>    0.003</td> <td>    5.644</td> <td> 0.000</td> <td>    0.010</td> <td>    0.021</td>\n",
       "</tr>\n",
       "<tr>\n",
       "  <th>LSTAT</th>   <td>   -0.4077</td> <td>    0.051</td> <td>   -7.960</td> <td> 0.000</td> <td>   -0.508</td> <td>   -0.307</td>\n",
       "</tr>\n",
       "<tr>\n",
       "  <th>RM_DIS</th>  <td>    0.1876</td> <td>    0.151</td> <td>    1.242</td> <td> 0.215</td> <td>   -0.109</td> <td>    0.484</td>\n",
       "</tr>\n",
       "</table>\n",
       "<table class=\"simpletable\">\n",
       "<tr>\n",
       "  <th>Omnibus:</th>       <td>205.113</td> <th>  Durbin-Watson:     </th> <td>   0.978</td> \n",
       "</tr>\n",
       "<tr>\n",
       "  <th>Prob(Omnibus):</th> <td> 0.000</td>  <th>  Jarque-Bera (JB):  </th> <td>1407.629</td> \n",
       "</tr>\n",
       "<tr>\n",
       "  <th>Skew:</th>          <td> 1.612</td>  <th>  Prob(JB):          </th> <td>2.17e-306</td>\n",
       "</tr>\n",
       "<tr>\n",
       "  <th>Kurtosis:</th>      <td>10.508</td>  <th>  Cond. No.          </th> <td>8.92e+03</td> \n",
       "</tr>\n",
       "</table><br/><br/>Warnings:<br/>[1] Standard Errors assume that the covariance matrix of the errors is correctly specified.<br/>[2] The condition number is large, 8.92e+03. This might indicate that there are<br/>strong multicollinearity or other numerical problems."
      ],
      "text/plain": [
       "<class 'statsmodels.iolib.summary.Summary'>\n",
       "\"\"\"\n",
       "                            OLS Regression Results                            \n",
       "==============================================================================\n",
       "Dep. Variable:                      y   R-squared:                       0.959\n",
       "Model:                            OLS   Adj. R-squared:                  0.958\n",
       "Method:                 Least Squares   F-statistic:                     828.7\n",
       "Date:                Sun, 08 Dec 2019   Prob (F-statistic):               0.00\n",
       "Time:                        01:02:18   Log-Likelihood:                -1523.0\n",
       "No. Observations:                 506   AIC:                             3074.\n",
       "Df Residuals:                     492   BIC:                             3133.\n",
       "Df Model:                          14                                         \n",
       "Covariance Type:            nonrobust                                         \n",
       "==============================================================================\n",
       "                 coef    std err          t      P>|t|      [0.025      0.975]\n",
       "------------------------------------------------------------------------------\n",
       "CRIM          -0.0941      0.034     -2.733      0.007      -0.162      -0.026\n",
       "ZN             0.0446      0.015      3.021      0.003       0.016       0.074\n",
       "INDUS         -0.0087      0.065     -0.135      0.893      -0.135       0.118\n",
       "CHAS           2.8810      0.904      3.188      0.002       1.105       4.657\n",
       "NOX           -1.6037      3.508     -0.457      0.648      -8.496       5.289\n",
       "RM             5.5541      0.431     12.875      0.000       4.707       6.402\n",
       "AGE           -0.0063      0.014     -0.456      0.648      -0.033       0.021\n",
       "DIS           -2.0802      0.916     -2.271      0.024      -3.880      -0.280\n",
       "RAD            0.1579      0.068      2.338      0.020       0.025       0.291\n",
       "TAX           -0.0092      0.004     -2.339      0.020      -0.017      -0.001\n",
       "PTRATIO       -0.3304      0.121     -2.741      0.006      -0.567      -0.094\n",
       "B              0.0153      0.003      5.644      0.000       0.010       0.021\n",
       "LSTAT         -0.4077      0.051     -7.960      0.000      -0.508      -0.307\n",
       "RM_DIS         0.1876      0.151      1.242      0.215      -0.109       0.484\n",
       "==============================================================================\n",
       "Omnibus:                      205.113   Durbin-Watson:                   0.978\n",
       "Prob(Omnibus):                  0.000   Jarque-Bera (JB):             1407.629\n",
       "Skew:                           1.612   Prob(JB):                    2.17e-306\n",
       "Kurtosis:                      10.508   Cond. No.                     8.92e+03\n",
       "==============================================================================\n",
       "\n",
       "Warnings:\n",
       "[1] Standard Errors assume that the covariance matrix of the errors is correctly specified.\n",
       "[2] The condition number is large, 8.92e+03. This might indicate that there are\n",
       "strong multicollinearity or other numerical problems.\n",
       "\"\"\""
      ]
     },
     "execution_count": 20,
     "metadata": {},
     "output_type": "execute_result"
    }
   ],
   "source": [
    "X = boston_df.drop(\"price\",1)\n",
    "y= boston.target\n",
    "model = smf.OLS(y,X)\n",
    "result = model.fit()\n",
    "result.summary()"
   ]
  },
  {
   "cell_type": "markdown",
   "metadata": {},
   "source": [
    "p値、t値を見ると、RMとDISの交差項は目的変数に統計的に有意な影響を与えていない.\n",
    "\n",
    "### 余談: 2乗項\n",
    "説明変数が大きくなるにしたがって、目的変数に与える影響が変化するという仮説を示すために用いる.\n",
    "\n",
    "例えば、年齢と自給の関係がある。\n",
    "年齢が高くなると時給は増加するが、増加幅は次第に減少し、いずれピークを迎えて減少に転じる場合が多い。\n",
    "この場合は、年齢の2乗項を説明変数に追加するとモデルの精度が向上するかもしれない."
   ]
  },
  {
   "cell_type": "code",
   "execution_count": null,
   "metadata": {},
   "outputs": [],
   "source": []
  }
 ],
 "metadata": {
  "hide_input": false,
  "kernelspec": {
   "display_name": "Python 3",
   "language": "python",
   "name": "python3"
  },
  "language_info": {
   "codemirror_mode": {
    "name": "ipython",
    "version": 3
   },
   "file_extension": ".py",
   "mimetype": "text/x-python",
   "name": "python",
   "nbconvert_exporter": "python",
   "pygments_lexer": "ipython3",
   "version": "3.7.3"
  },
  "latex_envs": {
   "LaTeX_envs_menu_present": true,
   "autoclose": false,
   "autocomplete": true,
   "bibliofile": "biblio.bib",
   "cite_by": "apalike",
   "current_citInitial": 1,
   "eqLabelWithNumbers": true,
   "eqNumInitial": 1,
   "hotkeys": {
    "equation": "Ctrl-E",
    "itemize": "Ctrl-I"
   },
   "labels_anchors": false,
   "latex_user_defs": false,
   "report_style_numbering": false,
   "user_envs_cfg": false
  },
  "toc": {
   "base_numbering": 1,
   "nav_menu": {},
   "number_sections": true,
   "sideBar": true,
   "skip_h1_title": false,
   "title_cell": "Table of Contents",
   "title_sidebar": "Contents",
   "toc_cell": true,
   "toc_position": {},
   "toc_section_display": true,
   "toc_window_display": false
  }
 },
 "nbformat": 4,
 "nbformat_minor": 2
}
